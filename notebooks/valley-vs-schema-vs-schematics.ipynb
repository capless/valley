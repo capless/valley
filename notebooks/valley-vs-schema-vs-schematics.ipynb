{
 "cells": [
  {
   "cell_type": "code",
   "execution_count": 7,
   "metadata": {
    "collapsed": true
   },
   "outputs": [],
   "source": [
    "from valley.contrib import Schema as VSchema\n",
    "from valley import properties as vp\n",
    "\n",
    "\n",
    "class AnimalValley(VSchema):\n",
    "    name = vp.CharProperty(required=True)\n",
    "    species = vp.CharProperty(required=True)\n",
    "    color = vp.CharProperty()\n",
    "    age = vp.IntegerProperty(required=True)\n",
    "    \n",
    "valley_frog = AnimalValley(name='Kermit',species='frog',color='green',age=5)"
   ]
  },
  {
   "cell_type": "code",
   "execution_count": 6,
   "metadata": {
    "collapsed": false
   },
   "outputs": [],
   "source": [
    "from schematics.models import Model\n",
    "from schematics import types as stypes\n",
    "\n",
    "\n",
    "class AnimalSchematics(Model):\n",
    "    name = stypes.StringType(required=True)\n",
    "    species = stypes.StringType(required=True)\n",
    "    color = stypes.StringType()\n",
    "    age = stypes.IntType(required=True)\n",
    "    \n",
    "schematics_frog = AnimalSchematics({'name':'Kermit','species':'frog','color':'green','age':5})"
   ]
  },
  {
   "cell_type": "code",
   "execution_count": 8,
   "metadata": {
    "collapsed": true
   },
   "outputs": [],
   "source": [
    "schematics_frog.validate()"
   ]
  },
  {
   "cell_type": "code",
   "execution_count": 8,
   "metadata": {
    "collapsed": false
   },
   "outputs": [
    {
     "data": {
      "text/plain": [
       "[{'age': 5, 'color': 'green', 'name': 'Kermit', 'species': 'frog'}]"
      ]
     },
     "execution_count": 8,
     "metadata": {},
     "output_type": "execute_result"
    }
   ],
   "source": [
    "from schema import Schema, Optional\n",
    "\n",
    "schema_frog = Schema([{\n",
    "    'name':str,\n",
    "    'species':str,\n",
    "    'color':str,\n",
    "    Optional('age'):int\n",
    "}])\n",
    "\n",
    "p = {'name':'Kermit','species':'frog','color':'green','age':5}\n",
    "\n",
    "schema_frog.validate([p])"
   ]
  },
  {
   "cell_type": "code",
   "execution_count": 12,
   "metadata": {
    "collapsed": false
   },
   "outputs": [
    {
     "data": {
      "text/plain": [
       "0.8737730979919434"
      ]
     },
     "execution_count": 12,
     "metadata": {},
     "output_type": "execute_result"
    }
   ],
   "source": [
    "import timeit\n",
    "s = \"\"\"\n",
    "from valley.contrib import Schema as VSchema\n",
    "from valley import properties as vp\n",
    "\n",
    "\n",
    "class AnimalValley(VSchema):\n",
    "    name = vp.CharProperty(required=True)\n",
    "    species = vp.CharProperty(required=True)\n",
    "    color = vp.CharProperty()\n",
    "    age = vp.IntegerProperty(required=True)\n",
    "    \n",
    "valley_frog = AnimalValley(name='Kermit',species='frog',color='green',age=5)\n",
    "valley_frog.validate()\n",
    "\"\"\"\n",
    "timeit.timeit(stmt=s,number=10000)"
   ]
  },
  {
   "cell_type": "code",
   "execution_count": 11,
   "metadata": {
    "collapsed": false
   },
   "outputs": [
    {
     "data": {
      "text/plain": [
       "5.857553958892822"
      ]
     },
     "execution_count": 11,
     "metadata": {},
     "output_type": "execute_result"
    }
   ],
   "source": [
    "v = \"\"\"\n",
    "from schematics.models import Model\n",
    "from schematics import types as stypes\n",
    "\n",
    "\n",
    "class AnimalSchematics(Model):\n",
    "    name = stypes.StringType(required=True)\n",
    "    species = stypes.StringType(required=True)\n",
    "    color = stypes.StringType()\n",
    "    age = stypes.IntType(required=True)\n",
    "    \n",
    "schematics_frog = AnimalSchematics({'name':'Kermit','species':'frog','color':'green','age':5})\n",
    "schematics_frog.validate()\n",
    "\"\"\"\n",
    "timeit.timeit(stmt=v,number=10000)"
   ]
  },
  {
   "cell_type": "code",
   "execution_count": 10,
   "metadata": {
    "collapsed": false
   },
   "outputs": [
    {
     "data": {
      "text/plain": [
       "1.4859449863433838"
      ]
     },
     "execution_count": 10,
     "metadata": {},
     "output_type": "execute_result"
    }
   ],
   "source": [
    "y = \"\"\"\n",
    "from schema import Schema, Optional\n",
    "\n",
    "schema_frog = Schema([{\n",
    "    'name':str,\n",
    "    'species':str,\n",
    "    'color':str,\n",
    "    Optional('age'):int\n",
    "}])\n",
    "\n",
    "p = {'name':'Kermit','species':'frog','color':'green','age':5}\n",
    "\n",
    "schema_frog.validate([p])\n",
    "\"\"\"\n",
    "\n",
    "timeit.timeit(stmt=y,number=10000)"
   ]
  },
  {
   "cell_type": "code",
   "execution_count": null,
   "metadata": {
    "collapsed": true
   },
   "outputs": [],
   "source": []
  }
 ],
 "metadata": {
  "kernelspec": {
   "display_name": "Python 2",
   "language": "python",
   "name": "python2"
  },
  "language_info": {
   "codemirror_mode": {
    "name": "ipython",
    "version": 2
   },
   "file_extension": ".py",
   "mimetype": "text/x-python",
   "name": "python",
   "nbconvert_exporter": "python",
   "pygments_lexer": "ipython2",
   "version": "2.7.12+"
  }
 },
 "nbformat": 4,
 "nbformat_minor": 2
}
